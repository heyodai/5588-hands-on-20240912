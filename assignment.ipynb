{
 "cells": [
  {
   "cell_type": "code",
   "execution_count": 1,
   "metadata": {},
   "outputs": [
    {
     "name": "stderr",
     "output_type": "stream",
     "text": [
      "/Users/odai/5588-hands-on-20240912/.venv/lib/python3.11/site-packages/tqdm/auto.py:21: TqdmWarning: IProgress not found. Please update jupyter and ipywidgets. See https://ipywidgets.readthedocs.io/en/stable/user_install.html\n",
      "  from .autonotebook import tqdm as notebook_tqdm\n"
     ]
    }
   ],
   "source": [
    "import torch\n",
    "import sqlite3\n",
    "import gradio as gr"
   ]
  },
  {
   "cell_type": "code",
   "execution_count": 2,
   "metadata": {},
   "outputs": [
    {
     "name": "stderr",
     "output_type": "stream",
     "text": [
      "Using cache found in /Users/odai/.cache/torch/hub/ultralytics_yolov5_master\n",
      "YOLOv5 🚀 2024-9-12 Python-3.11.6 torch-2.4.1 CPU\n",
      "\n",
      "Fusing layers... \n",
      "YOLOv5s summary: 213 layers, 7225885 parameters, 0 gradients, 16.4 GFLOPs\n",
      "Adding AutoShape... \n"
     ]
    }
   ],
   "source": [
    "# Load the pre-trained YOLOv5 model\n",
    "model = torch.hub.load(\"ultralytics/yolov5\", \"yolov5s\")"
   ]
  },
  {
   "cell_type": "code",
   "execution_count": 3,
   "metadata": {},
   "outputs": [],
   "source": [
    "conn = sqlite3.connect(\"hotdog_predictions.db\")\n",
    "c = conn.cursor()\n",
    "c.execute(\n",
    "    \"\"\"\n",
    "    CREATE TABLE IF NOT EXISTS predictions (\n",
    "        id INTEGER PRIMARY KEY,\n",
    "        image_path TEXT,\n",
    "        prediction TEXT,\n",
    "        confidence REAL\n",
    "    )\n",
    "\"\"\"\n",
    ")\n",
    "conn.commit()\n",
    "conn.close()"
   ]
  },
  {
   "cell_type": "code",
   "execution_count": 4,
   "metadata": {},
   "outputs": [],
   "source": [
    "def predict_and_store(image, image_path):\n",
    "    results = model(image)\n",
    "    results = results.pandas().xyxy[0]  # Results as DataFrame\n",
    "\n",
    "    # Check for hot dogs in the predictions\n",
    "    hotdog_detected = any(results[\"name\"].str.contains(\"hot dog\"))\n",
    "    prediction = \"hot dog\" if hotdog_detected else \"not a hot dog\"\n",
    "    confidence = (\n",
    "        results[results[\"name\"] == \"hot dog\"][\"confidence\"].max()\n",
    "        if hotdog_detected\n",
    "        else 0\n",
    "    )\n",
    "\n",
    "    # Store in database\n",
    "    conn = sqlite3.connect(\"hotdog_predictions.db\")\n",
    "    c = conn.cursor()\n",
    "    c.execute(\n",
    "        \"INSERT INTO predictions (image_path, prediction, confidence) VALUES (?, ?, ?)\",\n",
    "        (image_path, prediction, confidence),\n",
    "    )\n",
    "    conn.commit()\n",
    "    conn.close()\n",
    "\n",
    "    return prediction, float(confidence)"
   ]
  },
  {
   "cell_type": "code",
   "execution_count": 5,
   "metadata": {},
   "outputs": [
    {
     "name": "stdout",
     "output_type": "stream",
     "text": [
      "Running on local URL:  http://127.0.0.1:7860\n",
      "Running on public URL: https://55905d9ff0206f6c5d.gradio.live\n",
      "\n",
      "This share link expires in 72 hours. For free permanent hosting and GPU upgrades, run `gradio deploy` from Terminal to deploy to Spaces (https://huggingface.co/spaces)\n"
     ]
    },
    {
     "data": {
      "text/html": [
       "<div><iframe src=\"https://55905d9ff0206f6c5d.gradio.live\" width=\"100%\" height=\"500\" allow=\"autoplay; camera; microphone; clipboard-read; clipboard-write;\" frameborder=\"0\" allowfullscreen></iframe></div>"
      ],
      "text/plain": [
       "<IPython.core.display.HTML object>"
      ]
     },
     "metadata": {},
     "output_type": "display_data"
    },
    {
     "data": {
      "text/plain": []
     },
     "execution_count": 5,
     "metadata": {},
     "output_type": "execute_result"
    },
    {
     "name": "stderr",
     "output_type": "stream",
     "text": [
      "Traceback (most recent call last):\n",
      "  File \"/Users/odai/5588-hands-on-20240912/.venv/lib/python3.11/site-packages/gradio/queueing.py\", line 536, in process_events\n",
      "    response = await route_utils.call_process_api(\n",
      "               ^^^^^^^^^^^^^^^^^^^^^^^^^^^^^^^^^^^\n",
      "  File \"/Users/odai/5588-hands-on-20240912/.venv/lib/python3.11/site-packages/gradio/route_utils.py\", line 322, in call_process_api\n",
      "    output = await app.get_blocks().process_api(\n",
      "             ^^^^^^^^^^^^^^^^^^^^^^^^^^^^^^^^^^^\n",
      "  File \"/Users/odai/5588-hands-on-20240912/.venv/lib/python3.11/site-packages/gradio/blocks.py\", line 1935, in process_api\n",
      "    result = await self.call_function(\n",
      "             ^^^^^^^^^^^^^^^^^^^^^^^^^\n",
      "  File \"/Users/odai/5588-hands-on-20240912/.venv/lib/python3.11/site-packages/gradio/blocks.py\", line 1520, in call_function\n",
      "    prediction = await anyio.to_thread.run_sync(  # type: ignore\n",
      "                 ^^^^^^^^^^^^^^^^^^^^^^^^^^^^^^^^^^^^^^^^^^^^^^^\n",
      "  File \"/Users/odai/5588-hands-on-20240912/.venv/lib/python3.11/site-packages/anyio/to_thread.py\", line 56, in run_sync\n",
      "    return await get_async_backend().run_sync_in_worker_thread(\n",
      "           ^^^^^^^^^^^^^^^^^^^^^^^^^^^^^^^^^^^^^^^^^^^^^^^^^^^^\n",
      "  File \"/Users/odai/5588-hands-on-20240912/.venv/lib/python3.11/site-packages/anyio/_backends/_asyncio.py\", line 2177, in run_sync_in_worker_thread\n",
      "    return await future\n",
      "           ^^^^^^^^^^^^\n",
      "  File \"/Users/odai/5588-hands-on-20240912/.venv/lib/python3.11/site-packages/anyio/_backends/_asyncio.py\", line 859, in run\n",
      "    result = context.run(func, *args)\n",
      "             ^^^^^^^^^^^^^^^^^^^^^^^^\n",
      "  File \"/Users/odai/5588-hands-on-20240912/.venv/lib/python3.11/site-packages/gradio/utils.py\", line 826, in wrapper\n",
      "    response = f(*args, **kwargs)\n",
      "               ^^^^^^^^^^^^^^^^^^\n",
      "  File \"/var/folders/d4/ggny_vpn0nv4f9ys1m85vyv80000gn/T/ipykernel_91545/1027707939.py\", line 3, in classify_image\n",
      "    image.save(image_path)\n",
      "    ^^^^^^^^^^\n",
      "AttributeError: 'numpy.ndarray' object has no attribute 'save'\n"
     ]
    }
   ],
   "source": [
    "def classify_image(image):\n",
    "    image_path = \"image.jpg\"\n",
    "    # image.save(image_path)\n",
    "    image = torch.from_numpy(image).float().permute(2, 0, 1) / 255.0\n",
    "    image = image.unsqueeze(0)\n",
    "\n",
    "    prediction, confidence = predict_and_store(image, image_path)\n",
    "    return prediction\n",
    "\n",
    "interface = gr.Interface(fn=classify_image, inputs=\"image\", outputs=\"text\")\n",
    "interface.launch(share=True)"
   ]
  }
 ],
 "metadata": {
  "kernelspec": {
   "display_name": ".venv",
   "language": "python",
   "name": "python3"
  },
  "language_info": {
   "codemirror_mode": {
    "name": "ipython",
    "version": 3
   },
   "file_extension": ".py",
   "mimetype": "text/x-python",
   "name": "python",
   "nbconvert_exporter": "python",
   "pygments_lexer": "ipython3",
   "version": "3.11.6"
  }
 },
 "nbformat": 4,
 "nbformat_minor": 2
}
